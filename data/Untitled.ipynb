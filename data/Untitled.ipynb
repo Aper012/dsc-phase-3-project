{
 "cells": [
  {
   "cell_type": "markdown",
   "metadata": {},
   "source": [
    "# The features in this dataset\n",
    "\n",
    "\n",
    "Your goal is to predict the operating condition of a waterpoint for each record in the dataset. You are provided the following set of information about the waterpoints:\n",
    "\n",
    "* **amount_tsh** - Total static head (amount water available to waterpoint)\n",
    "* **date_recorded** - The date the row was entered\n",
    "* **funder** - Who funded the well\n",
    "* **gps_height** - Altitude of the well\n",
    "* **installer** - Organization that installed the well\n",
    "* **longitude** - GPS coordinate\n",
    "* **latitude** - GPS coordinate\n",
    "* **wpt_name** - Name of the waterpoint if there is one\n",
    "* **num_private** -\n",
    "* **basin** - Geographic water basin\n",
    "* **subvillage** - Geographic location\n",
    "* **region** - Geographic location\n",
    "* **region_code** - Geographic location (coded)\n",
    "* **district_code** - Geographic location (coded)\n",
    "* **lga** - Geographic location\n",
    "* **ward** - Geographic location\n",
    "* **population** - Population around the well\n",
    "* **public_meeting** - True/False\n",
    "* **recorded_by** - Group entering this row of data\n",
    "* **scheme_management** - Who operates the waterpoint\n",
    "* **scheme_name** - Who operates the waterpoint\n",
    "* **permit** - If the waterpoint is permitted\n",
    "* **construction_year** - Year the waterpoint was constructed\n",
    "* **extraction_type** - The kind of extraction the waterpoint uses\n",
    "* **extraction_type_group** - The kind of extraction the waterpoint uses\n",
    "* **extraction_type_class** - The kind of extraction the waterpoint uses\n",
    "* **management** - How the waterpoint is managed\n",
    "* **management_group** - How the waterpoint is managed\n",
    "* **payment** - What the water costs\n",
    "* **payment_type** - What the water costs\n",
    "* **water_quality** - The quality of the water\n",
    "* **quality_group** - The quality of the water\n",
    "* **quantity** - The quantity of water\n",
    "* **quantity_group** - The quantity of water\n",
    "* **source** - The source of the water\n",
    "* **source_type** - The source of the water\n",
    "* **source_class** - The source of the water\n",
    "* **waterpoint_type** - The kind of waterpoint\n",
    "* **waterpoint_type_group** - The kind of waterpoint\n",
    "\n"
   ]
  },
  {
   "cell_type": "code",
   "execution_count": null,
   "metadata": {},
   "outputs": [],
   "source": []
  }
 ],
 "metadata": {
  "kernelspec": {
   "display_name": "Python 3",
   "language": "python",
   "name": "python3"
  },
  "language_info": {
   "codemirror_mode": {
    "name": "ipython",
    "version": 3
   },
   "file_extension": ".py",
   "mimetype": "text/x-python",
   "name": "python",
   "nbconvert_exporter": "python",
   "pygments_lexer": "ipython3",
   "version": "3.6.9"
  },
  "toc": {
   "base_numbering": 1,
   "nav_menu": {},
   "number_sections": true,
   "sideBar": true,
   "skip_h1_title": false,
   "title_cell": "Table of Contents",
   "title_sidebar": "Contents",
   "toc_cell": false,
   "toc_position": {},
   "toc_section_display": true,
   "toc_window_display": false
  },
  "varInspector": {
   "cols": {
    "lenName": 16,
    "lenType": 16,
    "lenVar": 40
   },
   "kernels_config": {
    "python": {
     "delete_cmd_postfix": "",
     "delete_cmd_prefix": "del ",
     "library": "var_list.py",
     "varRefreshCmd": "print(var_dic_list())"
    },
    "r": {
     "delete_cmd_postfix": ") ",
     "delete_cmd_prefix": "rm(",
     "library": "var_list.r",
     "varRefreshCmd": "cat(var_dic_list()) "
    }
   },
   "types_to_exclude": [
    "module",
    "function",
    "builtin_function_or_method",
    "instance",
    "_Feature"
   ],
   "window_display": false
  }
 },
 "nbformat": 4,
 "nbformat_minor": 4
}
